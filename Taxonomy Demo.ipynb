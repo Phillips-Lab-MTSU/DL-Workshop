{
 "cells": [
  {
   "cell_type": "markdown",
   "id": "64bfc948-59cb-4ccc-a350-3bd3bd53778b",
   "metadata": {},
   "source": [
    "# Taxonomic Classification Demo\n",
    "## Featuring: DNABERT and SetBERT\n",
    "Source repository: https://github.com/Phillips-Lab-MTSU/DL-Workshop.git"
   ]
  },
  {
   "cell_type": "markdown",
   "id": "e31468bc-78c1-437f-91f4-68b9ff43bb2c",
   "metadata": {},
   "source": [
    "### Preliminary Package Installation\n",
    "\n",
    "You will probably need to restart the notebook kernel after running the next cell - doesn't hurt to run it again after you have done this at least one time for this session."
   ]
  },
  {
   "cell_type": "code",
   "execution_count": null,
   "id": "e1e2a742-fb0e-4603-9980-b52176a50b37",
   "metadata": {},
   "outputs": [],
   "source": [
    "! git clone -b taxonomy-demo https://github.com/jlphillipsphd/deep-dna.git\n",
    "! cd deep-dna && git checkout taxonomy-demo && pip install -e ."
   ]
  },
  {
   "cell_type": "markdown",
   "id": "e1137c19-d6d3-413b-936b-d80508fb5d5f",
   "metadata": {},
   "source": [
    "### Let's grab some FASTQ soil samples..."
   ]
  },
  {
   "cell_type": "code",
   "execution_count": null,
   "id": "26f701bf-b059-43f8-a644-ce1acd2af48e",
   "metadata": {},
   "outputs": [],
   "source": [
    "! curl --remote-name https://data.phillips-lab.org/fastq/Wesley010-FC-042318_S10_L001_R1_001.fastq\n",
    "! curl --remote-name https://data.phillips-lab.org/fastq/Wesley011-FC-071818_S11_L001_R1_001.fastq\n",
    "! curl --remote-name https://data.phillips-lab.org/fastq/Wesley012-FC-100818_S12_L001_R1_001.fastq"
   ]
  },
  {
   "cell_type": "markdown",
   "id": "0e63cb3e-dfa1-43f3-b581-d2f9fa0dd11a",
   "metadata": {},
   "source": [
    "Take a look at one of the files here..."
   ]
  },
  {
   "cell_type": "code",
   "execution_count": null,
   "id": "5bd0efa3-e89f-47d1-8fa4-2b395c86da64",
   "metadata": {},
   "outputs": [],
   "source": [
    "! head Wesley010-FC-042318_S10_L001_R1_001.fastq"
   ]
  },
  {
   "cell_type": "markdown",
   "id": "e8643427-3d66-45ac-af5d-4aa442577b80",
   "metadata": {},
   "source": [
    "### Prep Tools and Data"
   ]
  },
  {
   "cell_type": "code",
   "execution_count": null,
   "id": "e8a16cb8-6115-42cc-bde8-44c23640a192",
   "metadata": {},
   "outputs": [],
   "source": [
    "from dnadb import fasta, taxonomy\n",
    "import deepctx as dcs\n",
    "import matplotlib.pyplot as plt\n",
    "import numpy as np\n",
    "import tensorflow as tf\n",
    "import wandb\n",
    "\n",
    "from deepdna.nn import data_generators as dg\n",
    "from deepdna.nn.models import load_model"
   ]
  },
  {
   "cell_type": "code",
   "execution_count": null,
   "id": "0a74ca58-cc90-44fd-96ad-1eca43520255",
   "metadata": {},
   "outputs": [],
   "source": [
    "# Import forward reads from FASTQs\n",
    "!dnadb fasta import-multiplexed \\\n",
    "    --output-sequences-path ./nachusa.fasta.db \\\n",
    "    --output-mapping-path ./nachusa.fasta.mapping.db \\\n",
    "    Wesley*.fastq"
   ]
  },
  {
   "cell_type": "code",
   "execution_count": null,
   "id": "7d8bc839-1b78-43fb-9418-103a4c25add6",
   "metadata": {},
   "outputs": [],
   "source": [
    "# Load samples\n",
    "nachusa_sequences = fasta.FastaDb(\"./nachusa.fasta.db\")\n",
    "nachusa_samples = nachusa_sequences.mappings(\"./nachusa.fasta.mapping.db\")"
   ]
  },
  {
   "cell_type": "code",
   "execution_count": null,
   "id": "e04b9f05-365c-4415-a2c3-c19be26944e7",
   "metadata": {},
   "outputs": [],
   "source": [
    "print(f\"Total sequences: {len(nachusa_sequences):,}\")"
   ]
  },
  {
   "cell_type": "code",
   "execution_count": null,
   "id": "26ad5c59-cf15-4143-aafa-1ce87173f256",
   "metadata": {},
   "outputs": [],
   "source": [
    "# Number of samples loaded.\n",
    "len(nachusa_samples)"
   ]
  },
  {
   "cell_type": "markdown",
   "id": "93d04067-5c28-4650-a9f3-d03e60ea56e6",
   "metadata": {},
   "source": [
    "### Load the DNABERT and SetBERT Models"
   ]
  },
  {
   "cell_type": "code",
   "execution_count": null,
   "id": "c1894996-0205-4e2a-a6b0-c812d07560cd",
   "metadata": {},
   "outputs": [],
   "source": [
    "wandb.login()"
   ]
  },
  {
   "cell_type": "code",
   "execution_count": null,
   "id": "6a350fd4-193e-46ca-84ef-046b1b662323",
   "metadata": {},
   "outputs": [],
   "source": [
    "# Only if needed...\n",
    "# wandb.login(relogin=True)"
   ]
  },
  {
   "cell_type": "code",
   "execution_count": null,
   "id": "8ffcda9a-8065-4eb3-98a0-2cfb42dde04d",
   "metadata": {},
   "outputs": [],
   "source": [
    "api = wandb.Api()"
   ]
  },
  {
   "cell_type": "code",
   "execution_count": null,
   "id": "6ea99f4d-7126-46d4-86eb-10c83ce9fad0",
   "metadata": {},
   "outputs": [],
   "source": [
    "path = api.artifact(\"sirdavidludwig/dnabert-taxonomy/dnabert-taxonomy-topdown-64d-150l:v0\").download()\n",
    "dnabert_tax_model = load_model(path)"
   ]
  },
  {
   "cell_type": "code",
   "execution_count": null,
   "id": "a0f2840a-d29b-484d-9c74-e72f5d1018c3",
   "metadata": {},
   "outputs": [],
   "source": [
    "path = api.artifact(\"sirdavidludwig/model-registry/setbert-taxonomy-topdown-64d-150l:v0\").download()\n",
    "setbert_tax_model = load_model(path)\n",
    "setbert_tax_model.base.chunk_size = 256 # sequence encoding chunk size"
   ]
  },
  {
   "cell_type": "markdown",
   "id": "c0ee1c8e-3095-4358-9e0e-bf4257a33479",
   "metadata": {},
   "source": [
    "### Prep Data for Model Analysis"
   ]
  },
  {
   "cell_type": "code",
   "execution_count": null,
   "id": "db7853a2-7c31-43a0-88bf-9c07ede808ca",
   "metadata": {},
   "outputs": [],
   "source": [
    "nachusa = dg.BatchGenerator(batch_size=3, batches_per_epoch=1, pipeline=[\n",
    "    dg.random_samples(nachusa_samples), # The samples to choose from (uniformly)\n",
    "    dg.random_sequence_entries(1000),   # Sample random FASTA entries from chosen samples\n",
    "    dg.sequences(150),                  # Get the sequences from the FASTA entries and trim to length\n",
    "    dg.augment_ambiguous_bases(),       # Augment any ambiguous bases present in the sequence\n",
    "    dg.encode_sequences(),              # Encode to integers,\n",
    "    dg.encode_kmers(3),                 # Encode kmer integers\n",
    "    lambda samples, encoded_kmer_sequences: (samples, encoded_kmer_sequences)\n",
    "])"
   ]
  },
  {
   "cell_type": "code",
   "execution_count": null,
   "id": "3b105f48-7f38-4c77-98da-6b159648b1a5",
   "metadata": {},
   "outputs": [],
   "source": [
    "samples, encoded_kmer_sequences = nachusa[0]"
   ]
  },
  {
   "cell_type": "code",
   "execution_count": null,
   "id": "9360814d-9de0-47ef-8437-fca414c5471e",
   "metadata": {},
   "outputs": [],
   "source": [
    "encoded_kmer_sequences.shape"
   ]
  },
  {
   "cell_type": "code",
   "execution_count": null,
   "id": "4923e9d7-8cb3-4b2f-8bfb-f88af3aec65a",
   "metadata": {},
   "outputs": [],
   "source": [
    "len(samples)"
   ]
  },
  {
   "cell_type": "code",
   "execution_count": null,
   "id": "f5cb091c-bc35-41bc-aa75-37885966f150",
   "metadata": {},
   "outputs": [],
   "source": [
    "# Print the corresponding samples\n",
    "for sample in samples:\n",
    "    print(sample.name)"
   ]
  },
  {
   "cell_type": "markdown",
   "id": "3f94c5a9-b615-4344-8d8b-38128586126f",
   "metadata": {},
   "source": [
    "### DNABERT Predictions (Single-Sequence)"
   ]
  },
  {
   "cell_type": "code",
   "execution_count": null,
   "id": "1442ba7f-c812-498b-99f1-56aa1eb5b640",
   "metadata": {},
   "outputs": [],
   "source": [
    "encoded_kmer_sequences.reshape((-1,encoded_kmer_sequences.shape[-1])).shape"
   ]
  },
  {
   "cell_type": "code",
   "execution_count": null,
   "id": "4bc7e988-fc99-4e1b-aca9-2fdeab1355d8",
   "metadata": {},
   "outputs": [],
   "source": [
    "dnabert_predictions = dnabert_tax_model.classify(encoded_kmer_sequences.reshape((-1,encoded_kmer_sequences.shape[-1])))"
   ]
  },
  {
   "cell_type": "code",
   "execution_count": null,
   "id": "d336d335-dfab-4ea0-a770-b973df380467",
   "metadata": {},
   "outputs": [],
   "source": [
    "dnabert_predictions[:10]"
   ]
  },
  {
   "cell_type": "code",
   "execution_count": null,
   "id": "10a5fae8-0eb6-4ad5-a2b9-db59fc045900",
   "metadata": {},
   "outputs": [],
   "source": [
    "setbert_predictions = setbert_tax_model.classify(encoded_kmer_sequences)"
   ]
  },
  {
   "cell_type": "code",
   "execution_count": null,
   "id": "70e393ac-6e4e-49e5-a4e3-673634113004",
   "metadata": {},
   "outputs": [],
   "source": [
    "setbert_predictions[0,:10]"
   ]
  },
  {
   "cell_type": "markdown",
   "id": "e7079886-29dd-4f9c-8a27-324df98ab1c7",
   "metadata": {},
   "source": [
    "### DNABERT (Top-Down Hierarchy) Architecture"
   ]
  },
  {
   "cell_type": "code",
   "execution_count": null,
   "id": "f82e13e4-7cdb-42a6-87ae-e3a4b901e294",
   "metadata": {},
   "outputs": [],
   "source": [
    "tf.keras.utils.plot_model(dnabert_tax_model,expand_nested=True,show_shapes=True)"
   ]
  },
  {
   "cell_type": "code",
   "execution_count": null,
   "id": "e808b099-6bee-49bb-9e47-0f5a5bc6630e",
   "metadata": {},
   "outputs": [],
   "source": [
    "tf.keras.utils.plot_model(dnabert_tax_model.model,expand_nested=True,show_shapes=True)"
   ]
  },
  {
   "cell_type": "code",
   "execution_count": null,
   "id": "b3e763b0-9d74-4d87-8364-b2af7dde0a87",
   "metadata": {},
   "outputs": [],
   "source": [
    "tf.keras.utils.plot_model(dnabert_tax_model.model.layers[1].model,expand_nested=True,show_shapes=True)"
   ]
  },
  {
   "cell_type": "code",
   "execution_count": null,
   "id": "6a6cc461-c315-4dca-aeee-76908554283a",
   "metadata": {},
   "outputs": [],
   "source": [
    "tf.keras.utils.plot_model(dnabert_tax_model.model.layers[1].model.layers[2].model,expand_nested=True,show_shapes=True)"
   ]
  },
  {
   "cell_type": "markdown",
   "id": "d1f14651-c903-4aea-96a4-4dbc025cb652",
   "metadata": {},
   "source": [
    "### SetBERT Architecture"
   ]
  },
  {
   "cell_type": "code",
   "execution_count": null,
   "id": "3a0b25f6-de12-45c2-8387-19799c99abfd",
   "metadata": {},
   "outputs": [],
   "source": [
    "tf.keras.utils.plot_model(setbert_tax_model,expand_nested=True,show_shapes=True)"
   ]
  },
  {
   "cell_type": "code",
   "execution_count": null,
   "id": "6668df28-edbe-4ac3-bc00-00836eb95187",
   "metadata": {},
   "outputs": [],
   "source": [
    "tf.keras.utils.plot_model(setbert_tax_model.model,expand_nested=True,show_shapes=True)"
   ]
  },
  {
   "cell_type": "code",
   "execution_count": null,
   "id": "b53582fd-9478-4760-9634-991db926f585",
   "metadata": {},
   "outputs": [],
   "source": [
    "tf.keras.utils.plot_model(setbert_tax_model.model.layers[1].model,expand_nested=True,show_shapes=True)"
   ]
  },
  {
   "cell_type": "code",
   "execution_count": null,
   "id": "f30d4ba0-579b-4cb9-ae5b-ae6d9974bda3",
   "metadata": {},
   "outputs": [],
   "source": [
    "tf.keras.utils.plot_model(setbert_tax_model.model.layers[1].model.layers[2].model,expand_nested=True,show_shapes=True)"
   ]
  },
  {
   "cell_type": "code",
   "execution_count": null,
   "id": "4c12dcce-7e0f-417f-81cd-af2ed037afc1",
   "metadata": {},
   "outputs": [],
   "source": [
    "tf.keras.utils.plot_model(setbert_tax_model.model.layers[1].model.layers[2].model.layers[-1].model,expand_nested=True,show_shapes=True)"
   ]
  },
  {
   "cell_type": "code",
   "execution_count": null,
   "id": "5b8e753d-3063-4ab7-ad10-a25f595a25e5",
   "metadata": {},
   "outputs": [],
   "source": []
  }
 ],
 "metadata": {
  "kernelspec": {
   "display_name": "Python 3 (ipykernel)",
   "language": "python",
   "name": "python3"
  },
  "language_info": {
   "codemirror_mode": {
    "name": "ipython",
    "version": 3
   },
   "file_extension": ".py",
   "mimetype": "text/x-python",
   "name": "python",
   "nbconvert_exporter": "python",
   "pygments_lexer": "ipython3",
   "version": "3.10.6"
  }
 },
 "nbformat": 4,
 "nbformat_minor": 5
}
